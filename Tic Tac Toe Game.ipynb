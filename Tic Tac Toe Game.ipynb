{
 "cells": [
  {
   "cell_type": "code",
   "execution_count": 1,
   "id": "ba87b5ee",
   "metadata": {},
   "outputs": [],
   "source": [
    "## Requesting User Input\n",
    "def User_Input():\n",
    "    condition = False\n",
    "    \n",
    "    while condition == False:\n",
    "        position = int(input(\"Enter a number in a range of 1-9:\"))\n",
    "        \n",
    "        if position in range(1,10):\n",
    "            condition = True\n",
    "        else:\n",
    "            print(\"Number are not in range 1 to 9, please choose again\")\n",
    "    return position"
   ]
  },
  {
   "cell_type": "code",
   "execution_count": 2,
   "id": "ed857182",
   "metadata": {},
   "outputs": [],
   "source": [
    "from IPython.display import clear_output\n",
    "\n",
    "#Tic-Tac-Toe Game Board Display\n",
    "def Game_Display(loc):\n",
    "    clear_output()\n",
    "    # loc stands for location\n",
    "    # symbol represent X or O\n",
    "    condition = True\n",
    "    \n",
    "    # Display\n",
    "    print(\"  {} | {} | {}  \".format(loc[1],loc[2],loc[3]))\n",
    "    print(\"-------------\")\n",
    "    print(\"  {} | {} | {}  \".format(loc[4],loc[5],loc[6]))\n",
    "    print(\"-------------\")\n",
    "    print(\"  {} | {} | {}  \".format(loc[7],loc[8],loc[9]))"
   ]
  },
  {
   "cell_type": "code",
   "execution_count": 3,
   "id": "548b2b31",
   "metadata": {},
   "outputs": [],
   "source": [
    "## Function for users to choose their respective symbol \"X\" or \"O\"\n",
    "def User_Marker():\n",
    "    condition = False\n",
    "    # Desired symbol\n",
    "    desired = [\"X\",\"O\"]\n",
    "    chosen = [\" \"]*2\n",
    "    \n",
    "    while condition == False:\n",
    "        symbol = input(\"Player1 please pick a marker X or O:  \").upper()\n",
    "        symbol = symbol.replace(\" \",\"\")\n",
    "        \n",
    "        # Checking whether inpur acceptable or not\n",
    "        if symbol in desired:\n",
    "            condition = True\n",
    "            \n",
    "            if symbol == \"X\":\n",
    "                return (\"X\",\"O\")\n",
    "            else:\n",
    "                return (\"O\",\"X\")\n",
    "        else:\n",
    "            print(\"\\nIncorrect input, please re-enter again\")\n",
    "            "
   ]
  },
  {
   "cell_type": "code",
   "execution_count": 4,
   "id": "f98d3a85",
   "metadata": {},
   "outputs": [],
   "source": [
    "## Place the respective symbol based on desired player's location choice\n",
    "def Place_Marker(loc,symbol,position):\n",
    "    loc[position] = symbol"
   ]
  },
  {
   "cell_type": "code",
   "execution_count": 5,
   "id": "a1727e40",
   "metadata": {},
   "outputs": [],
   "source": [
    "## Check the board for win condition\n",
    "def Win_Condition(loc,symbol):\n",
    "    return ((loc[1] == symbol and loc[2] == symbol and loc[3] == symbol) or \n",
    "    (loc[4] == symbol and loc[5] == symbol and loc[6] == symbol) or \n",
    "    (loc[1] == symbol and loc[5] == symbol and loc[9] == symbol) or \n",
    "    (loc[3] == symbol and loc[5] == symbol and loc[7] == symbol) or \n",
    "    (loc[1] == symbol and loc[4] == symbol and loc[7] == symbol) or \n",
    "    (loc[2] == symbol and loc[5] == symbol and loc[8] == symbol) or \n",
    "    (loc[3] == symbol and loc[6] == symbol and loc[9] == symbol)) "
   ]
  },
  {
   "cell_type": "code",
   "execution_count": 6,
   "id": "e46a61e4",
   "metadata": {},
   "outputs": [],
   "source": [
    "import random\n",
    "\n",
    "def Turn_Random():\n",
    "    if random.randrange(0,2) == 0:\n",
    "        return \"Player1\"\n",
    "    else:\n",
    "        return \"Player2\""
   ]
  },
  {
   "cell_type": "code",
   "execution_count": 7,
   "id": "b962d98e",
   "metadata": {},
   "outputs": [],
   "source": [
    "def Check_Board(loc):\n",
    "    for item in range (1,10):\n",
    "        if loc[item] == \" \":\n",
    "            return True\n",
    "    return False"
   ]
  },
  {
   "cell_type": "code",
   "execution_count": 8,
   "id": "0b6939d5",
   "metadata": {},
   "outputs": [],
   "source": [
    "def replay():\n",
    "    y = input(\"Do you want to play again? [Yes] or [No]:  \")\n",
    "    if y.lower() == \"yes\":\n",
    "        return True\n",
    "    else:\n",
    "        return False"
   ]
  },
  {
   "cell_type": "code",
   "execution_count": null,
   "id": "9068d680",
   "metadata": {},
   "outputs": [
    {
     "name": "stdout",
     "output_type": "stream",
     "text": [
      "  O | X | O  \n",
      "-------------\n",
      "  X | O | X  \n",
      "-------------\n",
      "  O |   |    \n",
      "Player2 won!\n"
     ]
    }
   ],
   "source": [
    "# print(\"Welcome to Tic Tac Toe Game\")\n",
    "while True:\n",
    "    # reset the game\n",
    "    board = [\" \"]*10\n",
    "    \n",
    "    # Marker for each player\n",
    "    symbol1,symbol2 = User_Marker()\n",
    "    \n",
    "    turn = Turn_Random()\n",
    "    print(turn + \" will play first\")\n",
    "    \n",
    "    \n",
    "    print(\"Are you ready to play the game?\")\n",
    "    \n",
    "    readycondition = True\n",
    "    while readycondition:\n",
    "        x = input(\"Please enter [Y] or [N]\").upper()\n",
    "        x = x.replace(\" \",\"\")\n",
    "        if(x == \"Y\"):\n",
    "            readycondition = False\n",
    "            game = True\n",
    "        elif(x == \"N\"):\n",
    "            game = False\n",
    "            break\n",
    "    \n",
    "    ##############################################################\n",
    "    while game:\n",
    "        if turn == \"Player1\":\n",
    "            \n",
    "            Game_Display(board)\n",
    "            position = User_Input()\n",
    "            Place_Marker(board,symbol1,position)\n",
    "            \n",
    "            if Win_Condition(board,symbol1) == True:\n",
    "                Game_Display(board)\n",
    "                print(\"Player1 won!\")\n",
    "                game = False\n",
    "            else:\n",
    "                if Check_Board(board):\n",
    "                    turn = \"Player2\"\n",
    "                else:\n",
    "                    Game_Display(board)\n",
    "                    print(\"Draw!\")\n",
    "                    break\n",
    "                \n",
    "        elif turn == \"Player2\":\n",
    "            \n",
    "            Game_Display(board)\n",
    "            position = User_Input()\n",
    "            Place_Marker(board,symbol2,position)\n",
    "            \n",
    "            if Win_Condition(board,symbol2) == True:\n",
    "                Game_Display(board)\n",
    "                print(\"Player2 won!\")\n",
    "                game = False\n",
    "            else:\n",
    "                if Check_Board(board):\n",
    "                    turn = \"Player1\"\n",
    "                else:\n",
    "                    Game_Display(board)\n",
    "                    print(\"Draw!\")\n",
    "                    break\n",
    "    #############################################################\n",
    "    if replay() == False:\n",
    "        break"
   ]
  }
 ],
 "metadata": {
  "kernelspec": {
   "display_name": "Python 3 (ipykernel)",
   "language": "python",
   "name": "python3"
  },
  "language_info": {
   "codemirror_mode": {
    "name": "ipython",
    "version": 3
   },
   "file_extension": ".py",
   "mimetype": "text/x-python",
   "name": "python",
   "nbconvert_exporter": "python",
   "pygments_lexer": "ipython3",
   "version": "3.10.9"
  }
 },
 "nbformat": 4,
 "nbformat_minor": 5
}
